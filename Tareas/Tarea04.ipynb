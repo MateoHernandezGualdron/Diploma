{
 "cells": [
  {
   "cell_type": "markdown",
   "id": "3622f27f-600a-48f1-bd36-619202aa8e2d",
   "metadata": {},
   "source": [
    "# **<center><span style='color:lightblue'> Presentación de la información del trabajo final</span></center>**"
   ]
  },
  {
   "cell_type": "markdown",
   "id": "d6f6110f-f259-4c5d-8c80-a73950fe8395",
   "metadata": {},
   "source": [
    "### Introducción"
   ]
  },
  {
   "cell_type": "markdown",
   "id": "a924291d-fb98-42d5-be07-a3b8563e72a8",
   "metadata": {},
   "source": [
    "El reanálisis climático está ampliamente reconocido como un instrumento computacional para la producción de Variables climáticas esenciales (ECV's) e indicadores climáticos junto con los modelos propios para la realización de mapas consistentes que aseguren la integridad y la coherencia de la representación de los sistemas de la Tierra (v.g. agua, aire, energía). La aplicabilidad de los reanálisis climáticos está orientada al uso en ciencias atmosféricas para el correcto armado del pronóstico de las variables climáticas modeladas a futuro y poder armar el estado del arte de la climatología para entender los errores mismos del modelaje y cómo impactan los resultados mismos según el cambio en el sistema. Un ejemplo de lo anteriormente mencionado son los Representative Concentration Patways por su traducción las Trayectorias de Concentración Representativas."
   ]
  },
  {
   "cell_type": "markdown",
   "id": "8f8b6b73-5991-4c8b-8933-83132315c783",
   "metadata": {},
   "source": [
    "[Información de los RCP](http://www.oscc.gob.es/es/general/salud_cambio_climatico/Nuevos_escenarios_emision_RCPs.htm)"
   ]
  },
  {
   "cell_type": "markdown",
   "id": "f5217e20-ca72-475b-accf-f2547b43205a",
   "metadata": {},
   "source": [
    "Las RCP se definen según el IPCC como los posibles escenarios que abarcan series de tiempo de emisiones y concentraciones de la gama de gases de efecto invernadero, aerosoles, gases químicamente activos y el uso del suelo junto con la cobertura terrestre. Se dice relativos porque cada trayectoria modelada ofrece muchas posibilidades en formas de escenarios climáticos que conducirían a características específicas de forzamiento radiactivo. El término trayectoria hace precisión en el hecho de que además de considerar de interés los niveles de concentración a largo plazo también se debe mostrar el camino durante la serie de tiempo para llegar a dicho resultado en cuestión. Las RCP son modeladas hasta el año 2100; no obstante existe el término Trayectorias de Concentración Ampliadas que describen una extensión representativa de entre el año 2100 hasta el 2500 y son los que comúnmente no representan escenarios coherentes. EL siguiente mapa ilustra los modelados:"
   ]
  },
  {
   "cell_type": "markdown",
   "id": "b9f9961d-4bff-4e87-adfb-987d90fff403",
   "metadata": {},
   "source": [
    "<center><img src=\"https://cimss.ssec.wisc.edu/climatechange/modeling/lesson13/images/AR5tempProjections.jpg\"></center> Tomado de: https://cimss.ssec.wisc.edu/climatechange/modeling/lesson13/images/AR5tempProjections.jpg"
   ]
  },
  {
   "cell_type": "markdown",
   "id": "ca4a9178-f2b8-4c5c-93c2-b96ad82f39f4",
   "metadata": {},
   "source": [
    "Uno de los organismos que ha trabajado en la generación de modelos computacionales climáticos es European Centre for Medium-Range Weather Forecasts por sus siglas ECMWF que bajo la dirección del Copernicus Institute of the European Comission for Climate Change ha generado el último y más avanzado modelamiento climático: ERA5"
   ]
  },
  {
   "cell_type": "markdown",
   "id": "76bbe7d1-a7e1-4c82-928a-6fcd3a41e4d1",
   "metadata": {},
   "source": [
    "# Título: **Modelamiento de la precipitación en Colombia**"
   ]
  },
  {
   "cell_type": "markdown",
   "id": "26509243-c815-4a8b-8cf4-74946425f569",
   "metadata": {},
   "source": [
    "## Reporte °1"
   ]
  },
  {
   "cell_type": "markdown",
   "id": "938f2b9d-1cdb-45fb-9769-6399f9f78e84",
   "metadata": {},
   "source": [
    "Tengo un interés en poder modelar con ayuda de librerías como Tensorflow la precipitación en Colombia dándole datos de prueba que pueden ser datasets más antiguos, digamos, un periodo de 1990 hasta el 2014 (25 años) para compararlo después en un plazo más pequeño de tiempo, podría ser de 2015 hasta 2021. Siendo así, los datos de prueba tendrían en principio 300 meses de precipitación total mensual para cada estación seleccionada y el periodo de prueba real serían en principio 84 meses. Quiero ser preciso en que son datos que se esperan porque la realidad es que en Colombia el IDEAM aún cuando ha intentado realizar un buen trabajo, tiene estaciones que sin previo aviso fallan y no vuelven a ser reparadas o se toman mucho tiempo para poder ser arregladas; así que de un dataset de 300 meses para cada estación aún cuanod muchas si lo consiguen hay otras cuyos valores son sólo 50, por decir un número arbitrario. El hehco es que para definir el alcance y la potencia real, no estoy seguro de cuál sea el mínimo número de meses posibles para entrenar al modelo. Voy a decir entonces que espero que mi número mínimo de meses sean 10 años, es decir, 120 datos de precipitación mensual acumulada dada en milímetro de agua. Mi interés, además, es ver si entre las 6 regiones naturales de Colombia: Andina, Amazonía, Caribe, Insular, Orinoquía y Pacífica existe diferencias significativas entre el modelado y los datos reales; es decir, si es que lo hay, saber si hay una región más difícil de modelar con los datos presentados. "
   ]
  },
  {
   "cell_type": "markdown",
   "id": "d6a5faa7-fc23-4103-8a32-b45dcedd3d8a",
   "metadata": {},
   "source": [
    "Ejemplos de artículos que han hecho ésto en otros países:\n",
    "[Artículo 1](https://www.frontiersin.org/articles/10.3389/fenvs.2022.921658/full)\n",
    "[Artículo 2](https://www.sciencedirect.com/science/article/pii/S2214581822001951)\n",
    "[Artículo 3](https://www.ncbi.nlm.nih.gov/pmc/articles/PMC8956721/)"
   ]
  },
  {
   "cell_type": "markdown",
   "id": "1eea6323-991d-495b-8307-0ae49ed45b15",
   "metadata": {},
   "source": [
    "# ETL (Hecho)"
   ]
  },
  {
   "cell_type": "markdown",
   "id": "a179af20-3de1-4378-bdd5-7446a88a582d",
   "metadata": {},
   "source": [
    "La forma como transformé y limpié los datos fue depurando los csv. del IDEAM y calculando con base en el día pluviométrico la cantidad de agua mensual para una estación. Esto lo tengo organizado en excel en donde cada base de datos estáa demás puesta en una sub carpeta por región natural de Colombia. Los datos tienen entre otros, datos de fecha y valor total para dicha fecha, en formado YYYY/MM debido a que los días son irrelevantes porque la climatología no contempla datos puntuales sino parámetros promedios mensuales."
   ]
  },
  {
   "cell_type": "markdown",
   "id": "9e54c5e2-71d5-4b97-98d6-3f23bed534a5",
   "metadata": {},
   "source": [
    "## Descripción del problema"
   ]
  },
  {
   "cell_type": "markdown",
   "id": "5572568b-439a-4ff3-89c8-86fea5cfaffa",
   "metadata": {},
   "source": [
    "En todos los artículos que he tenido la oportunidad de leer acerca de éste interesante tema, siempre mencionan la importancia de la correlación, dentro de las cuales he leído sobre todo: Pearson y Bias.\n",
    "Tengo un interés en tratar de hacer algo más que eso, sin saber bien cuál sea el alcance con los datos que poseo. Pretendo hacer mapas de calor con las correlaciones, pero quisiera hacer algo más (no sé qué otro factor estadístico podría incluir allí).\n",
    "Además de que quisiera discriminar por región natural de Colombia, es decir ver si hay alguna región que contenta mejor correlación que otra y tratar de entender por qué el modelo está fallando."
   ]
  },
  {
   "cell_type": "markdown",
   "id": "26228480-4ce3-46d5-ab74-5fcd882ecca7",
   "metadata": {},
   "source": [
    " <center><img src=\"https://rmets.onlinelibrary.wiley.com/cms/asset/2684d24c-0468-45aa-b4ac-142c186015cd/met2023-fig-0003-m.jpg\"></center> Mapar de calor, Coeficiente Pearson para México. Tomado de: https://rmets.onlinelibrary.wiley.com/doi/full/10.1002/met.2023"
   ]
  },
  {
   "cell_type": "markdown",
   "id": "09930736-d5a5-451b-a0d9-d53f5b134d78",
   "metadata": {},
   "source": [
    "# Fuente de los datos"
   ]
  },
  {
   "cell_type": "markdown",
   "id": "24fc41dd-ff9d-44e1-8400-cd4a5129fe59",
   "metadata": {},
   "source": [
    "[Link para la obtención de los datos del IDEAM](http://dhime.ideam.gov.co/atencionciudadano/)"
   ]
  },
  {
   "cell_type": "markdown",
   "id": "23e8c900-d11b-4291-90b6-d74ac6259d74",
   "metadata": {},
   "source": [
    "# Asesor principal\n",
    "Profesor Campo Elías, profesor Oleg y profesor Álvaro (El profesor Álvaro surgió en una charla con el profesor Campo Elías quien sugirio que debido a la experticia debía trabajar con él, aún cuando quisiera estar presente)"
   ]
  },
  {
   "cell_type": "markdown",
   "id": "8798ad73-5101-461c-87d2-73259aa378cd",
   "metadata": {},
   "source": [
    "# Exploración de los datos"
   ]
  },
  {
   "cell_type": "markdown",
   "id": "9eb29f96-fc18-466a-9a19-692f3c574647",
   "metadata": {},
   "source": [
    "Tengo los datos de cada estación y he podido realizar cálculos con ellos de promedios mensuales por estación además de mapas con librerías como Cartopy."
   ]
  },
  {
   "cell_type": "markdown",
   "id": "68411a0d-cc0b-45d0-a8dc-52789f70f0f5",
   "metadata": {},
   "source": [
    "# Resultados esperados"
   ]
  },
  {
   "cell_type": "markdown",
   "id": "5d77da04-7368-4eeb-8c47-e804a624438d",
   "metadata": {},
   "source": [
    "Poder dar un modelo predictivo del clima en las estaciones seleccionadas y observar la correlación y fiabilidad de los mismos con un periodo de prueba real, con el fin de retroalimentar académica y científicamente el modelamiento atmosférico en Colombia."
   ]
  },
  {
   "cell_type": "markdown",
   "id": "ade77da5-b170-44bd-8a2e-25a78a212326",
   "metadata": {},
   "source": [
    "# Tiempo de desarrollo esperado"
   ]
  },
  {
   "cell_type": "markdown",
   "id": "f0147f9f-e1fb-4f5e-bd7d-a64ae38e3496",
   "metadata": {},
   "source": [
    "Debido a que ya tengo los datos, necesito únicamente guía para saber cómo proceder con el aprendizaje del modelo, ya que no cuento con experiencia en usar Tensorflow. Pondría tentativamente 4 semanas para poder hacerlo correctamente."
   ]
  }
 ],
 "metadata": {
  "kernelspec": {
   "display_name": "Python 3 (ipykernel)",
   "language": "python",
   "name": "python3"
  },
  "language_info": {
   "codemirror_mode": {
    "name": "ipython",
    "version": 3
   },
   "file_extension": ".py",
   "mimetype": "text/x-python",
   "name": "python",
   "nbconvert_exporter": "python",
   "pygments_lexer": "ipython3",
   "version": "3.10.6"
  }
 },
 "nbformat": 4,
 "nbformat_minor": 5
}
