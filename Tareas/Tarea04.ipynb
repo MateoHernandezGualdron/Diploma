{
 "cells": [
  {
   "cell_type": "markdown",
   "id": "3622f27f-600a-48f1-bd36-619202aa8e2d",
   "metadata": {},
   "source": [
    "# **<center><span style='color:lightblue'> Presentación de la información del trabajo final</span></center>**"
   ]
  },
  {
   "cell_type": "markdown",
   "id": "d6f6110f-f259-4c5d-8c80-a73950fe8395",
   "metadata": {},
   "source": [
    "### Introducción"
   ]
  },
  {
   "cell_type": "markdown",
   "id": "a924291d-fb98-42d5-be07-a3b8563e72a8",
   "metadata": {},
   "source": [
    "El reanálisis climático está ampliamente reconocido como un instrumento computacional para la producción de Variables climáticas esenciales (ECV's) e indicadores climáticos junto con los modelos propios para la realización de mapas consistentes que aseguren la integridad y la coherencia de la representación de los sistemas de la Tierra (v.g. agua, aire, energía). La aplicabilidad de los reanálisis climáticos está orientada al uso en ciencias atmosféricas para el correcto armado del pronóstico de las variables climáticas modeladas a futuro y poder armar el estado del arte de la climatología para entender los errores mismos del modelaje y cómo impactan los resultados mismos según el cambio en el sistema. Un ejemplo de lo anteriormente mencionado son los Representative Concentration Patways por su traducción las Trayectorias de Concentración Representativas."
   ]
  },
  {
   "cell_type": "markdown",
   "id": "8f8b6b73-5991-4c8b-8933-83132315c783",
   "metadata": {},
   "source": [
    "[Información de los RCP](http://www.oscc.gob.es/es/general/salud_cambio_climatico/Nuevos_escenarios_emision_RCPs.htm)"
   ]
  },
  {
   "cell_type": "markdown",
   "id": "f5217e20-ca72-475b-accf-f2547b43205a",
   "metadata": {},
   "source": [
    "Las RCP se definen según el IPCC como los posibles escenarios que abarcan series de tiempo de emisiones y concentraciones de la gama de gases de efecto invernadero, aerosoles, gases químicamente activos y el uso del suelo junto con la cobertura terrestre. Se dice relativos porque cada trayectoria modelada ofrece muchas posibilidades en formas de escenarios climáticos que conducirían a características específicas de forzamiento radiactivo. El término trayectoria hace precisión en el hecho de que además de considerar de interés los niveles de concentración a largo plazo también se debe mostrar el camino durante la serie de tiempo para llegar a dicho resultado en cuestión. Las RCP son modeladas hasta el año 2100; no obstante existe el término Trayectorias de Concentración Ampliadas que describen una extensión representativa de entre el año 2100 hasta el 2500 y son los que comúnmente no representan escenarios coherentes. EL siguiente mapa ilustra los modelados:"
   ]
  },
  {
   "cell_type": "markdown",
   "id": "b9f9961d-4bff-4e87-adfb-987d90fff403",
   "metadata": {},
   "source": [
    "<center><img src=\"https://cimss.ssec.wisc.edu/climatechange/modeling/lesson13/images/AR5tempProjections.jpg\"></center> Tomado de: https://cimss.ssec.wisc.edu/climatechange/modeling/lesson13/images/AR5tempProjections.jpg"
   ]
  },
  {
   "cell_type": "markdown",
   "id": "ca4a9178-f2b8-4c5c-93c2-b96ad82f39f4",
   "metadata": {},
   "source": [
    "Uno de los organismos que ha trabajado en la generación de modelos computacionales climáticos es European Centre for Medium-Range Weather Forecasts por sus siglas ECMWF que bajo la dirección del Copernicus Institute of the European Comission for Climate Change ha generado el último y más avanzado modelamiento climático: ERA5"
   ]
  },
  {
   "cell_type": "markdown",
   "id": "76bbe7d1-a7e1-4c82-928a-6fcd3a41e4d1",
   "metadata": {},
   "source": [
    "# Título: ***Reanálisis de la variabilidad temporal de la precipitación y la temperatura en Colombia a partir del modelamiento global ERA5 del ECMWF y el IDEAM***"
   ]
  },
  {
   "cell_type": "markdown",
   "id": "26509243-c815-4a8b-8cf4-74946425f569",
   "metadata": {},
   "source": [
    "## Reporte °1"
   ]
  },
  {
   "cell_type": "markdown",
   "id": "24003c24-c695-4836-a23e-08ace75cca2f",
   "metadata": {},
   "source": [
    "Mi interés es poder comparar estadísticamente y aplicando conceptos de ciencia de datos, el dataset del ERA5 y el IDEAM en las variables: Temperatura mínima mensual, Temperatura máxima mensual y Precipitación total mensual. La serie de tiempo la he definido desde 1990-01-01 hasta el 2019-12-31 con lo cual son 30 años haciendo una distinción entre las  regiones naturales de Colombia: Andina, Amazonía, Orinoquía, Pacífica, Caribe e Insular.\n",
    "Los datos del ERA5 están dados en un formato netCDF, útil para el almacenamiento de datos climáticos en formato binario y que es compatible con la librería de Python netcdf4. Los datos, además, están dados en un formato horario (Cada hora del día desde las 00:00 hasta las 23:00). Así qué, dado que son 30 años de reanálisis, el ERA5 provee un total de 262968 horas.\n",
    "¿Cómo están dispuestos los datos? Debido a que está intentando representar en un planisferio un objeto 3D, el netcdf tiene corregidas las distorsiones y plantea una grilla z,x,y, en donde x es equivalente a las latitudes, y es equivalente a las longitudes, en tanto que z son todos los posibles instantes de tiempo del modelamiento. Para el caso de Colombia la grilla seleccionada me dió una matriz de la forma (z,x,y) = (262968,81,81). Esto quiere decir que existen 262968 horas para cada posible punto de x e y, en éste caso, latitud y lontigud. Aquí es donde no es trivial la comparación: el hecho es que la grilla de más alta potencia generada hasta ahora, el ERA5, equivale a una resolución de 31Km, hace que exista un desfase entre el ERA5 y los datos reales del IDEAM por cuenta de que el modelo no logra cubrir todo el espacio terrestre, con el problema de que Colombia por ejemplo: si bien por la posición ecuatorial sería acertado decir de forma muy generalizada que nuestro país cuenta con una distribución de climas bimodales, esto es, dos picos de lluvias por año, la distribución bimodal de lluvias no cumple para todo el territorio por cuenta de que hay clasificaciones de climas muy distintos y un sistema orográfico - hídrico complejo (Por ejemplo no es lo mismo el clima en Quibdó, que en Bogotá y que en Manaure).\n",
    "Esta sería la primera vez que se hace una comparación de éste estilo, comparando los datos reales gubernamentales de Colombia y los últimos datos de un modelamiento hechos, en éste caso IDEAM vs ERA5. \n",
    "Es una comparación que se hace útil porque las aplicaciones son variadas y ya utilizadas en el mundo en donde hay una consistencia entre los datos reales y los del modelo, por ejemplo el uso del ERA5 se ha implementado en estudios oficiales de: Potencial de energía eólica, potencial de energía solar, aplicación en sistemas de gestión de riesgos de desastres, agricultura, salud, etc..."
   ]
  },
  {
   "cell_type": "markdown",
   "id": "d6a5faa7-fc23-4103-8a32-b45dcedd3d8a",
   "metadata": {},
   "source": [
    "Ejemplos de artículos que han hecho ésto en otros países:\n",
    "[Artículo 1](https://www.frontiersin.org/articles/10.3389/fenvs.2022.921658/full)\n",
    "[Artículo 2](https://www.sciencedirect.com/science/article/pii/S2214581822001951)\n",
    "[Artículo 3](https://www.ncbi.nlm.nih.gov/pmc/articles/PMC8956721/)"
   ]
  },
  {
   "cell_type": "markdown",
   "id": "1eea6323-991d-495b-8307-0ae49ed45b15",
   "metadata": {},
   "source": [
    "# ETL (Hecho)"
   ]
  },
  {
   "cell_type": "markdown",
   "id": "a179af20-3de1-4378-bdd5-7446a88a582d",
   "metadata": {},
   "source": [
    "La forma en cómo transformé y limpié los datos fue darle a una función en python un set con las 48 estaciones del IDEAM consultadas en donde buscara para cada una, por su latitud y longitud, los puntos correspondientes del (z,x,y) Esto daba una posición cualquiera variando de 0 a 81; porque en realidad esos valores lo que representan tal como se dijo arriba son grados de latitud y longitud. Así que, por ejemplo, una estación arbitraria {a} podría tener posiciónes (z,13,27) en donde ese 13 representa una latitud y ese 27 una longitud. Cuando encontrara los puntos más cercanos que guardara esos 30 años (en horas) de datos para precipitación total mensual y para temperatura a 2m. La razón de no seleccionar una variable (Temperatura máxima o Temperatura mínima) Es que el modelamiento no provee dicha información sino que modela temperaturas sean las que sean. Para la precipitación encontré el acumulado (la suma) de esas horas por cada mes y año; para la temperatura mínima encontré la mínima por cada mes y año y para la temperatura máxima encontré el valor máximo por mes y año. Los datos del IDEAM están dados en archivos csv para cada estación.\n",
    "Tengo entonces ya los datos organizados y limpios para cada estación en las 3 variables: Precipitación total mensual, Temperatura mínima mensual, Temperatura máxima mensual.\n",
    "Un inconveniente con éstos datos el hecho de que el IDEAM suele tener falencias en los datos, muchos datos NaN o de plano estaciones que no funcionaron más. Por ésto el número se ha reducido, antes tenía un número mayor de estaciones pero éstas estaban muy incompletas. Las 48 estaciones no tienen tampoco los 360 meses de análisis completos en los datos del IDEAM. Tiene algunas estaciones muy buenas y otras que no, pero son los únicos datos existentes en Colombia. Tengo cada estación en archivos de excel."
   ]
  },
  {
   "cell_type": "markdown",
   "id": "9e54c5e2-71d5-4b97-98d6-3f23bed534a5",
   "metadata": {},
   "source": [
    "## Descripción del problema"
   ]
  },
  {
   "cell_type": "markdown",
   "id": "5572568b-439a-4ff3-89c8-86fea5cfaffa",
   "metadata": {},
   "source": [
    "En todos los artículos que he tenido la oportunidad de leer acerca de éste interesante tema, siempre mencionan la importancia de la correlación, dentro de las cuales he leído sobre todo: Pearson y Bias.\n",
    "Tengo un interés en tratar de hacer algo más que eso, sin saber bien cuál sea el alcance con los datos que poseo. Pretendo hacer mapas de calor con las correlaciones, pero quisiera hacer algo más (no sé qué otro factor estadístico podría incluir allí).\n",
    "Además de que quisiera discriminar por región natural de Colombia, es decir ver si hay alguna región que contenta mejor correlación que otra y tratar de entender por qué."
   ]
  },
  {
   "cell_type": "markdown",
   "id": "26228480-4ce3-46d5-ab74-5fcd882ecca7",
   "metadata": {},
   "source": [
    " <center><img src=\"https://rmets.onlinelibrary.wiley.com/cms/asset/2684d24c-0468-45aa-b4ac-142c186015cd/met2023-fig-0003-m.jpg\"></center> Mapar de calor, Coeficiente Pearson para México. Tomado de: https://rmets.onlinelibrary.wiley.com/doi/full/10.1002/met.2023"
   ]
  },
  {
   "cell_type": "markdown",
   "id": "09930736-d5a5-451b-a0d9-d53f5b134d78",
   "metadata": {},
   "source": [
    "# Fuente de los datos"
   ]
  },
  {
   "cell_type": "markdown",
   "id": "7ecf2724-4289-45d5-9297-97177e992308",
   "metadata": {},
   "source": [
    "[Link para la obtención los datos del ERA5 horarios](https://cds.climate.copernicus.eu/cdsapp#!/dataset/reanalysis-era5-single-levels?tab=form)"
   ]
  },
  {
   "cell_type": "markdown",
   "id": "24fc41dd-ff9d-44e1-8400-cd4a5129fe59",
   "metadata": {},
   "source": [
    "[Link para la obtención de los datos del IDEAM](http://dhime.ideam.gov.co/atencionciudadano/)"
   ]
  },
  {
   "cell_type": "markdown",
   "id": "23e8c900-d11b-4291-90b6-d74ac6259d74",
   "metadata": {},
   "source": [
    "# Asesor principal\n",
    "No tengo asignado"
   ]
  },
  {
   "cell_type": "markdown",
   "id": "8798ad73-5101-461c-87d2-73259aa378cd",
   "metadata": {},
   "source": [
    "# Exploración de los datos"
   ]
  },
  {
   "cell_type": "markdown",
   "id": "9eb29f96-fc18-466a-9a19-692f3c574647",
   "metadata": {},
   "source": [
    "Tengo los datos de las estaciones y de los puntos obtenidos por medio del ERA5 en equivalente en mapas hechos con librería cartopy y he usado plots para los datos raw bajados del ERA5 con el fin de ver que no hayan datos anómalos. Usar plots para ver nube de puntos ERA5 (y) IDEAM (x)."
   ]
  },
  {
   "cell_type": "markdown",
   "id": "68411a0d-cc0b-45d0-a8dc-52789f70f0f5",
   "metadata": {},
   "source": [
    "# Resultados esperados"
   ]
  },
  {
   "cell_type": "markdown",
   "id": "5d77da04-7368-4eeb-8c47-e804a624438d",
   "metadata": {},
   "source": [
    "Poder dar el primer acercamiento en Colombia de una comparación estadística fuerte y correcta sobre el modelamiento ERA5 con base en los datos reales del IDEAM con el fin de retroalimentar científicamente el modelo y poder hacer que cada vez sea mejor. Un modelamiento que fuera útil no sólo en latitudes muy altas o muy bajas, sino que representara a las zonas intertropicales podría representar un beneficio. En el caso de Colombia, podría utilizarse para prevenir desastres, para cubrir zonas sin estaciones y para ayudar a la planeación agrícola y energética."
   ]
  },
  {
   "cell_type": "markdown",
   "id": "ade77da5-b170-44bd-8a2e-25a78a212326",
   "metadata": {},
   "source": [
    "# Tiempo de desarrollo esperado"
   ]
  },
  {
   "cell_type": "markdown",
   "id": "f0147f9f-e1fb-4f5e-bd7d-a64ae38e3496",
   "metadata": {},
   "source": [
    "Debido a que ya tengo los datos, estoy esperando simplemente la guía para hacer un buen modelo estadístico y saber qué alcance tener con los datos, así mismo cuál será el impacto del estudio."
   ]
  }
 ],
 "metadata": {
  "kernelspec": {
   "display_name": "Python 3 (ipykernel)",
   "language": "python",
   "name": "python3"
  },
  "language_info": {
   "codemirror_mode": {
    "name": "ipython",
    "version": 3
   },
   "file_extension": ".py",
   "mimetype": "text/x-python",
   "name": "python",
   "nbconvert_exporter": "python",
   "pygments_lexer": "ipython3",
   "version": "3.10.6"
  }
 },
 "nbformat": 4,
 "nbformat_minor": 5
}
