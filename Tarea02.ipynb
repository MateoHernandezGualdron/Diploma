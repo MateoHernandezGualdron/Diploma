{
 "cells": [
  {
   "cell_type": "markdown",
   "metadata": {
    "id": "RlsNgbBziGzu"
   },
   "source": [
    "Practicaremos funciones.\n",
    "Como en la tarea 1, prepare un cuaderno solución de la tarea.\n",
    "\n",
    "Cada ejercicio debe ser probado con un ejemplo de datos.\n",
    "1. Escriba una función  que reciba la fecha de nacimiento de un a persona y calcule la edad de la persona\n",
    "\n",
    "2. Crea una función EscribirCentrado, que reciba como parámetro un texto y lo escriba centrado en pantalla (suponiendo una anchura de 80 columnas; pista: deberás escribir 40 - longitud/2 espacios antes del texto).  \n",
    "\n",
    "\n",
    "3. Construya una función decorada que reciba un texto y lo escriba marcado con Markdown en itálica y resaltada (bold). Revise la lección de decoradores, no vista en clase.\n",
    "\n",
    "4.  Crea un programa que pida dos número enteros al usuario y diga si alguno de ellos es múltiplo del otro. \n",
    "\n",
    "\n",
    "5. Crear una función re reciba una lista  de 24 valores de temperatura leída  hora en un día y que calcule la temperatura media  Cree una lista con 24 valores de temperatura de un día de Bogotá y pruebe su función. Invente los datos.\n",
    "\n",
    "\n",
    "5. Crea un función “ConvertirEspaciado”, que reciba como parámetro un texto y devuelve una cadena con un espacio adicional tras cada letra. Por ejemplo, “Hola, tú” devolverá “H o l a , t ú “.  Pruebe \n",
    "\n",
    "6. Crea una función “calcularMaxMin” que recibe una arreglo con valores numérico y devuelve el valor máximo y el mínimo. \n",
    "7.  Diseñar una función que calcule el área y el perímetro de una circunferencia. \n",
    "\n",
    "8. Crear una función  llamada “Login”, que recibe un nombre de usuario y una contraseña y devuelva Verdadero si el nombre de usuario es “usuario1” y la contraseña es “asdasd”. Además recibe el número de intentos que se ha intentado hacer login y si no se ha podido hacer login incremente este valor.\n",
    "\n",
    "9. Crear una función recursiva que permita calcular el factorial de un número. Realiza un programa principal donde se lea un entero y se muestre el resultado del factorial. Revise la lección de funciones.\n",
    "\n",
    "10 Escribir dos funciones que permitan calcular:\n",
    "\n",
    "    La cantidad de segundos en un tiempo dado en horas, minutos y segundos.\n",
    "    La cantidad de horas, minutos y segundos de un tiempo dado en segundos\n",
    "\n",
    "\n",
    "11. Crea una función  que lea una tupla, invierta los valores de la tupla y regrese una nueva tupla invirtiendo los valores. Recuerde que las tuplas son inmutables.\n",
    "\n",
    "12. Escriba una función que lea una lista y calcule la media geométrica de sus valores, usando funtools.reduce.\n",
    "\n",
    "Entregable.\n",
    "\n",
    "Enlace a la solución escrita en un cuaderno de Jupyter Lab y puesto en Github."
   ]
  },
  {
   "cell_type": "code",
   "execution_count": 31,
   "metadata": {},
   "outputs": [],
   "source": [
    "#Imports \n",
    "from datetime import date, datetime\n",
    "import numpy as np\n",
    "import textwrap\n",
    "import functools"
   ]
  },
  {
   "cell_type": "code",
   "execution_count": 3,
   "metadata": {},
   "outputs": [
    {
     "name": "stdin",
     "output_type": "stream",
     "text": [
      "Ingrese su año de nacimiento:  1998\n",
      "Sea 01 enero y 12 diciembre, escriba el mes de nacimiento:  05\n",
      "Ingrese su día de nacimiento:  21\n"
     ]
    },
    {
     "name": "stdout",
     "output_type": "stream",
     "text": [
      "1998-05-21\n",
      "Usted tiene 24 años a día de hoy, 2022-10-25\n"
     ]
    }
   ],
   "source": [
    "#1 Función que calcule la edad\n",
    "def calcular_edad():\n",
    "  anio = int(input('Ingrese su año de nacimiento: '))\n",
    "  mes = int(input('Sea 01 enero y 12 diciembre, escriba el mes de nacimiento: '))\n",
    "  dia = int(input('Ingrese su día de nacimiento: '))\n",
    "  fecha = date(anio,mes,dia)\n",
    "  print(fecha)\n",
    "  hoy = date.today()\n",
    "  edad = hoy.year - fecha.year\n",
    "  print('Usted tiene',edad,'años a día de hoy,',hoy)\n",
    "#---\n",
    "calcular_edad()"
   ]
  },
  {
   "cell_type": "code",
   "execution_count": 5,
   "metadata": {},
   "outputs": [
    {
     "name": "stdout",
     "output_type": "stream",
     "text": [
      "No lo supe hacer :(\n"
     ]
    }
   ],
   "source": [
    "#2 \n",
    "print('No lo supe hacer :(')"
   ]
  },
  {
   "cell_type": "code",
   "execution_count": 6,
   "metadata": {},
   "outputs": [
    {
     "name": "stdout",
     "output_type": "stream",
     "text": [
      "<b><i>Hola, Tarea 02</i></b>\n"
     ]
    }
   ],
   "source": [
    "#3 Negrita y cursiva:\n",
    "def design(texto):\n",
    "  output = '<b>'+'<i>'+texto+'</i>'+'</b>'\n",
    "  return print(output)\n",
    "design('Hola, Tarea 02')"
   ]
  },
  {
   "cell_type": "code",
   "execution_count": 10,
   "metadata": {},
   "outputs": [
    {
     "name": "stdin",
     "output_type": "stream",
     "text": [
      "Ingresa el número 1:  1474\n",
      "Ingresa el número 2:  2\n"
     ]
    },
    {
     "name": "stdout",
     "output_type": "stream",
     "text": [
      "El número 1474 es múltiplo de 2 y su relación es de 737.0\n"
     ]
    }
   ],
   "source": [
    "#4 Múltiplos:\n",
    "def multiplos():\n",
    "  a,b = int(input('Ingresa el número 1: ')),int(input('Ingresa el número 2: '))\n",
    "  if a%b==0:\n",
    "    print('El número',a,'es múltiplo de',b,'y su relación es de',a/b)\n",
    "  elif b%a==0:\n",
    "    print('El número',b,'es múltiplo de',a,'y su relación es de',b/a)\n",
    "  else:\n",
    "    print('No son números múltiplos')\n",
    "multiplos()"
   ]
  },
  {
   "cell_type": "code",
   "execution_count": 11,
   "metadata": {},
   "outputs": [
    {
     "name": "stdout",
     "output_type": "stream",
     "text": [
      "Las temperaturas son:  [22, 21, 21, -1, 9, -1, 18, -5, 12, 27, 14, 9, 12, 12, 12, 3, -1, 2, 7, 10, 21, 3, 24, 11]\n",
      "--------\n",
      "Siendo así, la temperatura media es de:  10.92 °C en Bogotá\n"
     ]
    }
   ],
   "source": [
    "#5 temperatura media de 24 horas:\n",
    "def temp_media():\n",
    "  temperaturas = []\n",
    "  for i in range(24):\n",
    "    temperaturas.append(np.random.randint(-5, 30))\n",
    "  media = np.mean(temperaturas)\n",
    "  print('Las temperaturas son: ',temperaturas)\n",
    "  print('--------')\n",
    "  print('Siendo así, la temperatura media es de: ','%.2f'%media,'°C en Bogotá')\n",
    "temp_media()"
   ]
  },
  {
   "cell_type": "code",
   "execution_count": 13,
   "metadata": {},
   "outputs": [
    {
     "name": "stdout",
     "output_type": "stream",
     "text": [
      "[250 217 447 987 728 407 611 821 590 447 112 728 205 857 353 654 445   2\n",
      " 371  36 596 839 912 470 185 446 632 596  55 340 384 366  94 346 126 762\n",
      " 889 278 585 733 678  97 690 896 526 388 660 472 899 561]\n",
      "El máximo elemento del array es:  987\n",
      "El mínimo elemento del array es:  2\n"
     ]
    }
   ],
   "source": [
    "#6 Max y Min de un array:\n",
    "def maxmin():\n",
    "  valores = []\n",
    "  for i in range(50):\n",
    "    valores.append(np.random.randint(0,1000))\n",
    "  valores = np.array(valores)\n",
    "  print(valores)\n",
    "  maximo = np.max(valores)\n",
    "  minimo = np.min(valores)\n",
    "  print('El máximo elemento del array es: ',maximo)\n",
    "  print('El mínimo elemento del array es: ',minimo)\n",
    "maxmin()"
   ]
  },
  {
   "cell_type": "code",
   "execution_count": 14,
   "metadata": {},
   "outputs": [
    {
     "name": "stdin",
     "output_type": "stream",
     "text": [
      "Digite el radio de la circunferencia para saber sus medidas:  234.78\n"
     ]
    },
    {
     "name": "stdout",
     "output_type": "stream",
     "text": [
      "Para una circunferencia de radio 234.78 el área es de 173169.77 u^2 \n",
      " Y el perímetro es de 1475.17 u\n"
     ]
    }
   ],
   "source": [
    "#7 Área y perímetro de una circunferencia:\n",
    "def medidas():\n",
    "  radio = float(input('Digite el radio de la circunferencia para saber sus medidas: '))\n",
    "  area = np.pi * (radio**2)\n",
    "  perimetro = 2*np.pi*radio\n",
    "  fmt = \"%.2f\"\n",
    "  print('Para una circunferencia de radio',radio,'el área es de',fmt%area,'u^2','\\n','Y el perímetro es de',fmt%perimetro,'u')\n",
    "medidas()"
   ]
  },
  {
   "cell_type": "code",
   "execution_count": 16,
   "metadata": {},
   "outputs": [
    {
     "name": "stdin",
     "output_type": "stream",
     "text": [
      "Ingrese el usuario:  baslvbklbkl\n",
      "Ingrese la clave bwajbvlf\n"
     ]
    },
    {
     "name": "stdout",
     "output_type": "stream",
     "text": [
      "Datos incorrectos\n"
     ]
    },
    {
     "name": "stdin",
     "output_type": "stream",
     "text": [
      "Ingrese el usuario:  vbjlbrvla\n",
      "Ingrese la clave vbjaklvbjle\n"
     ]
    },
    {
     "name": "stdout",
     "output_type": "stream",
     "text": [
      "Datos incorrectos\n"
     ]
    },
    {
     "name": "stdin",
     "output_type": "stream",
     "text": [
      "Ingrese el usuario:  bjavrq\n",
      "Ingrese la clave njavfv\n"
     ]
    },
    {
     "name": "stdout",
     "output_type": "stream",
     "text": [
      "Datos incorrectos\n"
     ]
    },
    {
     "name": "stdin",
     "output_type": "stream",
     "text": [
      "Ingrese el usuario:  bqilvrq\n",
      "Ingrese la clave bqrqr\n"
     ]
    },
    {
     "name": "stdout",
     "output_type": "stream",
     "text": [
      "Datos incorrectos\n"
     ]
    },
    {
     "name": "stdin",
     "output_type": "stream",
     "text": [
      "Ingrese el usuario:  usuario1\n",
      "Ingrese la clave asdasd\n"
     ]
    },
    {
     "name": "stdout",
     "output_type": "stream",
     "text": [
      "Clave y usuario acertados en:  5 intentos\n"
     ]
    }
   ],
   "source": [
    "#8 función login()\n",
    "def login():\n",
    "  usuario = 'usuario1'\n",
    "  clave = 'asdasd'\n",
    "  intentos = 1\n",
    "  pusuario = input('Ingrese el usuario: ')\n",
    "  pclave = input('Ingrese la clave')\n",
    "  while usuario != pusuario and pclave != clave:\n",
    "    print('Datos incorrectos')\n",
    "    pusuario = input('Ingrese el usuario: ')\n",
    "    pclave = input('Ingrese la clave')\n",
    "    intentos+=1\n",
    "  print('Clave y usuario acertados en: ',intentos,'intentos')\n",
    "login()"
   ]
  },
  {
   "cell_type": "code",
   "execution_count": 21,
   "metadata": {},
   "outputs": [
    {
     "name": "stdout",
     "output_type": "stream",
     "text": [
      "El factorial de 9 es 362880\n"
     ]
    }
   ],
   "source": [
    "#9 Factorial\n",
    "def factorial (numero):\n",
    "  rango = range(1,numero+1)\n",
    "  valor = 1\n",
    "  for i in rango:\n",
    "    valor = i*valor\n",
    "  print('El factorial de',numero,'es',valor)\n",
    "factorial(9)"
   ]
  },
  {
   "cell_type": "code",
   "execution_count": 22,
   "metadata": {},
   "outputs": [
    {
     "name": "stdout",
     "output_type": "stream",
     "text": [
      "No lo entendí\n"
     ]
    }
   ],
   "source": [
    "#10\n",
    "print('No lo entendí')"
   ]
  },
  {
   "cell_type": "code",
   "execution_count": 25,
   "metadata": {},
   "outputs": [
    {
     "name": "stdout",
     "output_type": "stream",
     "text": [
      "La tupla es ('a', 1, 'Mateo', 'carro', [1, 2, 3])\n",
      "Su inverso es ([1, 2, 3], 'carro', 'Mateo', 1, 'a')\n"
     ]
    }
   ],
   "source": [
    "#11 invertir la tupla\n",
    "def invtupla(tupla):\n",
    "  inv = tupla[::-1]\n",
    "  print('La tupla es',tupla)\n",
    "  print('Su inverso es',inv)\n",
    "invtupla(('a',1,'Mateo','carro',[1,2,3]))"
   ]
  },
  {
   "cell_type": "code",
   "execution_count": 30,
   "metadata": {},
   "outputs": [
    {
     "name": "stdout",
     "output_type": "stream",
     "text": [
      "La media geométrica es:  5.0\n"
     ]
    }
   ],
   "source": [
    "#12 media geométrica con functools\n",
    "def media_geometrica(lista):\n",
    "  longitud = len(lista)\n",
    "  media = functools.reduce(lambda a, b: a+b, lista)\n",
    "  media = media/longitud\n",
    "  return print('La media geométrica es: ',media)\n",
    "media_geometrica([0,1,2,3,4,5,6,7,8,9,10])"
   ]
  }
 ],
 "metadata": {
  "colab": {
   "collapsed_sections": [],
   "provenance": []
  },
  "kernelspec": {
   "display_name": "Python 3 (ipykernel)",
   "language": "python",
   "name": "python3"
  },
  "language_info": {
   "codemirror_mode": {
    "name": "ipython",
    "version": 3
   },
   "file_extension": ".py",
   "mimetype": "text/x-python",
   "name": "python",
   "nbconvert_exporter": "python",
   "pygments_lexer": "ipython3",
   "version": "3.10.6"
  }
 },
 "nbformat": 4,
 "nbformat_minor": 4
}
